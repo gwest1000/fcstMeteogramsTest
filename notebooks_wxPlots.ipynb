{
  "metadata": {
    "language_info": {
      "codemirror_mode": {
        "name": "python",
        "version": 3
      },
      "file_extension": ".py",
      "mimetype": "text/x-python",
      "name": "python",
      "nbconvert_exporter": "python",
      "pygments_lexer": "ipython3",
      "version": "3.8"
    },
    "kernelspec": {
      "name": "python",
      "display_name": "Python (Pyodide)",
      "language": "python"
    }
  },
  "nbformat_minor": 4,
  "nbformat": 4,
  "cells": [
    {
      "cell_type": "code",
      "source": "import pandas as pd\nimport os\nimport glob\nimport ipywidgets as widgets\nimport plotly.graph_objects as go\nfrom IPython.display import display\nimport numpy as np\n\n# Code to read in daily files and combine them into a single dataframe\npath = './data'\nall_files = glob.glob(os.path.join(path, \"*.csv\"))\n\ndataframes = []\nfor file in all_files:\n    location = os.path.basename(file).split('_')[0]\n    df = pd.read_csv(file)\n    df['Location'] = location\n    dataframes.append(df)\n\ndf = pd.concat(dataframes, ignore_index=True)\n\n# Define unique locations and model types\nlocations = df['Location'].unique().tolist()\nmodel_types = ['cmc', 'gfs', 'gefs', 'geps', 'cfs', 'ecmwf']\n\n# Create dropdown for location selection\nlocation_dropdown = widgets.Dropdown(\n    options=locations,\n    value=locations[0],\n    description='Location:',\n)\n\n# Create checkboxes for model selection\nmodel_checkboxes = [widgets.Checkbox(value=True, description=model_type) for model_type in model_types]\nmodel_selection = widgets.VBox(model_checkboxes)\n\n# Function to update plot based on user interaction\ndef update_plot(*args):\n    selected_location = location_dropdown.value\n    selected_models = [cb.description for cb in model_checkboxes if cb.value]\n\n    # Filter data based on user selection\n    data = df[df['Location'] == selected_location]\n    \n    # Clear current figure\n    fig = go.Figure()\n\n    # For each selected model, add trace to figure\n    for model_type in selected_models:\n        tmin_cols = [col for col in data.columns if 'TMin24' in col and model_type in col]\n        tmax_cols = [col for col in data.columns if 'TMax24' in col and model_type in col]\n        precip_cols = [col for col in data.columns if 'Precip24' in col and model_type in col]\n        percentiles = np.linspace(0, 100, 11)\n        \n        # Plot Tmin24\n        for i in range(len(percentiles)//2):\n            p1 = np.nanpercentile(data[tmin_cols].values, percentiles[i], axis=1)\n            p2 = np.nanpercentile(data[tmin_cols].values, percentiles[-(i+1)], axis=1)\n            fig.add_trace(go.Scatter(x=data['Date'], y=p1, fill=None, mode='lines', line_color='blue', showlegend=False, hoverinfo='none'))\n            fig.add_trace(go.Scatter(x=data['Date'], y=p2, fill='tonexty', mode='lines', line_color='blue', showlegend=False, hoverinfo='none'))\n\n        # Plot Tmax24\n        for i in range(len(percentiles)//2):\n            p1 = np.nanpercentile(data[tmax_cols].values, percentiles[i], axis=1)\n            p2 = np.nanpercentile(data[tmax_cols].values, percentiles[-(i+1)], axis=1)\n            fig.add_trace(go.Scatter(x=data['Date'], y=p1, fill=None, mode='lines', line_color='red', showlegend=False, hoverinfo='none'))\n            fig.add_trace(go.Scatter(x=data['Date'], y=p2, fill='tonexty', mode='lines', line_color='red', showlegend=False, hoverinfo='none'))\n\n        # Plot Precip24\n        for i in range(len(percentiles)//2):\n            p1 = np.nanpercentile(data[precip_cols].values, percentiles[i], axis=1)\n            p2 = np.nanpercentile(data[precip_cols].values, percentiles[-(i+1)], axis=1)\n            fig.add_trace(go.Scatter(x=data['Date'], y=p1, fill=None, mode='lines', line_color='green', showlegend=False, hoverinfo='none'))\n            fig.add_trace(go.Scatter(x=data['Date'], y=p2, fill='tonexty', mode='lines', line_color='green', showlegend=False, hoverinfo='none'))\n\n    # Update plot layout to simplify less important information\n    fig.update_layout(\n        xaxis=dict(showgrid=False),\n        yaxis=dict(showgrid=False),\n        plot_bgcolor='white'\n    )\n    \n    # Update plot\n    fig.show()\n\n# Call update_plot whenever the selection changes\nlocation_dropdown.observe(update_plot, 'value')\nfor cb in model_checkboxes:\n    cb.observe(update_plot, 'value')\n\n# Initialize plot\nupdate_plot()\n\n# Display widgets\ndisplay(location_dropdown)\ndisplay(model_selection)\n",
      "metadata": {},
      "execution_count": null,
      "outputs": []
    }
  ]
}